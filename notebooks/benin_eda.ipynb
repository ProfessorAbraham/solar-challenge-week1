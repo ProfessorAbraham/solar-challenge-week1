{
  "nbformat": 4,
  "nbformat_minor": 0,
  "metadata": {
    "colab": {
      "provenance": [],
      "authorship_tag": "ABX9TyNXlg5OkqZ8vAp72NImxccu",
      "include_colab_link": true
    },
    "kernelspec": {
      "name": "python3",
      "display_name": "Python 3"
    },
    "language_info": {
      "name": "python"
    }
  },
  "cells": [
    {
      "cell_type": "markdown",
      "metadata": {
        "id": "view-in-github",
        "colab_type": "text"
      },
      "source": [
        "<a href=\"https://colab.research.google.com/github/ProfessorAbraham/solar-challenge-week1/blob/eda-benin/notebooks/benin_eda.ipynb\" target=\"_parent\"><img src=\"https://colab.research.google.com/assets/colab-badge.svg\" alt=\"Open In Colab\"/></a>"
      ]
    },
    {
      "cell_type": "code",
      "execution_count": 1,
      "metadata": {
        "colab": {
          "base_uri": "https://localhost:8080/"
        },
        "id": "94CqrvRcM7xr",
        "outputId": "a45064bf-6a78-4d5d-c51e-6963e8809bd1"
      },
      "outputs": [
        {
          "output_type": "stream",
          "name": "stdout",
          "text": [
            "Cloning into 'solar-challenge-week1'...\n",
            "remote: Enumerating objects: 29, done.\u001b[K\n",
            "remote: Counting objects: 100% (29/29), done.\u001b[K\n",
            "remote: Compressing objects: 100% (12/12), done.\u001b[K\n",
            "remote: Total 29 (delta 5), reused 25 (delta 5), pack-reused 0 (from 0)\u001b[K\n",
            "Receiving objects: 100% (29/29), 4.85 KiB | 4.85 MiB/s, done.\n",
            "Resolving deltas: 100% (5/5), done.\n",
            "/content/solar-challenge-week1\n"
          ]
        }
      ],
      "source": [
        "# Replace with your actual GitHub repo\n",
        "!git clone https://github.com/professorAbraham/solar-challenge-week1.git\n",
        "%cd solar-challenge-week1\n"
      ]
    },
    {
      "cell_type": "code",
      "source": [
        "!git checkout -b eda-benin"
      ],
      "metadata": {
        "colab": {
          "base_uri": "https://localhost:8080/"
        },
        "id": "-Z4kdJbeNBxG",
        "outputId": "6c4c46bf-02e1-4077-9925-923acbebaa7a"
      },
      "execution_count": 2,
      "outputs": [
        {
          "output_type": "stream",
          "name": "stdout",
          "text": [
            "Switched to a new branch 'eda-benin'\n"
          ]
        }
      ]
    },
    {
      "cell_type": "code",
      "source": [
        "!git commit -m \"feat: EDA on Benin dataset - summary and cleaning\""
      ],
      "metadata": {
        "colab": {
          "base_uri": "https://localhost:8080/"
        },
        "id": "hjZvEZQpNMb9",
        "outputId": "120898c8-490b-4081-f78b-b1884e99880b"
      },
      "execution_count": 3,
      "outputs": [
        {
          "output_type": "stream",
          "name": "stdout",
          "text": [
            "Author identity unknown\n",
            "\n",
            "*** Please tell me who you are.\n",
            "\n",
            "Run\n",
            "\n",
            "  git config --global user.email \"you@example.com\"\n",
            "  git config --global user.name \"Your Name\"\n",
            "\n",
            "to set your account's default identity.\n",
            "Omit --global to set the identity only in this repository.\n",
            "\n",
            "fatal: unable to auto-detect email address (got 'root@9f05991cb9a5.(none)')\n"
          ]
        }
      ]
    },
    {
      "cell_type": "code",
      "source": [
        "!git commit -m \"feat: EDA on Benin dataset - summary and cleaning\""
      ],
      "metadata": {
        "colab": {
          "base_uri": "https://localhost:8080/"
        },
        "id": "GFb9nBa3QRkb",
        "outputId": "113b0838-b9e2-452b-be24-aea906616af8"
      },
      "execution_count": 10,
      "outputs": [
        {
          "output_type": "stream",
          "name": "stdout",
          "text": [
            "[eda-benin f8923b3] feat: EDA on Benin dataset - summary and cleaning\n",
            " 1 file changed, 0 insertions(+), 0 deletions(-)\n",
            " create mode 100644 notebooks/benin_eda.ipynb\n"
          ]
        }
      ]
    },
    {
      "cell_type": "code",
      "source": [
        "!git push -u origin eda-benin"
      ],
      "metadata": {
        "colab": {
          "base_uri": "https://localhost:8080/"
        },
        "id": "8fWzgODtQ2Qk",
        "outputId": "8c5cbef7-a61f-48bb-8d66-4d9a2cebb471"
      },
      "execution_count": 11,
      "outputs": [
        {
          "output_type": "stream",
          "name": "stdout",
          "text": [
            "Enumerating objects: 5, done.\n",
            "Counting objects:  20% (1/5)\rCounting objects:  40% (2/5)\rCounting objects:  60% (3/5)\rCounting objects:  80% (4/5)\rCounting objects: 100% (5/5)\rCounting objects: 100% (5/5), done.\n",
            "Delta compression using up to 2 threads\n",
            "Compressing objects:  33% (1/3)\rCompressing objects:  66% (2/3)\rCompressing objects: 100% (3/3)\rCompressing objects: 100% (3/3), done.\n",
            "Writing objects:  33% (1/3)\rWriting objects:  66% (2/3)\rWriting objects: 100% (3/3)\rWriting objects: 100% (3/3), 345 bytes | 345.00 KiB/s, done.\n",
            "Total 3 (delta 1), reused 0 (delta 0), pack-reused 0\n",
            "remote: Resolving deltas:   0% (0/1)\u001b[K\rremote: Resolving deltas: 100% (1/1)\u001b[K\rremote: Resolving deltas: 100% (1/1), completed with 1 local object.\u001b[K\n",
            "remote: This repository moved. Please use the new location:\u001b[K\n",
            "remote:   https://github.com/ProfessorAbraham/solar-challenge-week1.git\u001b[K\n",
            "remote: \n",
            "remote: Create a pull request for 'eda-benin' on GitHub by visiting:\u001b[K\n",
            "remote:      https://github.com/ProfessorAbraham/solar-challenge-week1/pull/new/eda-benin\u001b[K\n",
            "remote: \n",
            "To https://github.com/professorAbraham/solar-challenge-week1.git\n",
            " * [new branch]      eda-benin -> eda-benin\n",
            "Branch 'eda-benin' set up to track remote branch 'eda-benin' from 'origin'.\n"
          ]
        }
      ]
    },
    {
      "cell_type": "code",
      "source": [
        "!git add notebooks/benin_eda.ipynb"
      ],
      "metadata": {
        "id": "y4UWUzJBQU5x"
      },
      "execution_count": 9,
      "outputs": []
    },
    {
      "cell_type": "code",
      "source": [
        "!mkdir -p data\n",
        "!mv benin.csv data/\n"
      ],
      "metadata": {
        "colab": {
          "base_uri": "https://localhost:8080/"
        },
        "id": "VZisAL4JQd0D",
        "outputId": "a6e3117d-fe30-49e2-e788-3db4e9d78a6f"
      },
      "execution_count": 12,
      "outputs": [
        {
          "output_type": "stream",
          "name": "stdout",
          "text": [
            "mv: cannot stat 'benin.csv': No such file or directory\n"
          ]
        }
      ]
    },
    {
      "cell_type": "code",
      "source": [],
      "metadata": {
        "id": "SVgJ-8pgR0Oz"
      },
      "execution_count": null,
      "outputs": []
    }
  ]
}